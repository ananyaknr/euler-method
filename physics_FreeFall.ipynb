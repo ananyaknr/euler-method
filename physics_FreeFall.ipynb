{
  "nbformat": 4,
  "nbformat_minor": 0,
  "metadata": {
    "colab": {
      "name": "physics_FreeFall.ipynb",
      "provenance": []
    },
    "kernelspec": {
      "name": "python3",
      "display_name": "Python 3"
    },
    "language_info": {
      "name": "python"
    }
  },
  "cells": [
    {
      "cell_type": "markdown",
      "source": [
        "# Free fall motion"
      ],
      "metadata": {
        "id": "RzpECzWGlfc8"
      }
    },
    {
      "cell_type": "markdown",
      "source": [
        "use Euler method to simulatie one-dimensional motion of a free falling object"
      ],
      "metadata": {
        "id": "rtPqIE58npE_"
      }
    },
    {
      "cell_type": "code",
      "source": [
        "import matplotlib.pyplot as plt\n",
        "\n",
        "init_x=10\n",
        "h=1e-4\n",
        "x = [init_x]\n",
        "v = [0]\n",
        "m = 5\n",
        "g = 9.8\n",
        "t = [0]\n",
        "F = -1*m*g"
      ],
      "metadata": {
        "id": "fe2JhEkYldB4"
      },
      "execution_count": 8,
      "outputs": []
    },
    {
      "cell_type": "code",
      "source": [
        "while x[-1]>0:\n",
        "  new_x = x[-1] + v[-1]*h + (F*h*h)/(m*2)\n",
        "  new_v = v[-1] + (F*h)/m\n",
        "  new_t = t[-1]+h\n",
        "  x.append(new_x)\n",
        "  v.append(new_v)\n",
        "  t.append(new_t)"
      ],
      "metadata": {
        "id": "dRqvMk2_rVOG"
      },
      "execution_count": 9,
      "outputs": []
    },
    {
      "cell_type": "code",
      "source": [
        "plt.scatter(t[::500],x[::500],marker='o')\n",
        "plt.title('position-time graph')\n",
        "plt.show()"
      ],
      "metadata": {
        "colab": {
          "base_uri": "https://localhost:8080/",
          "height": 281
        },
        "id": "8HnjPNVorWUC",
        "outputId": "3b2f640d-3874-4fe7-90be-422daa4c2122"
      },
      "execution_count": 10,
      "outputs": [
        {
          "output_type": "display_data",
          "data": {
            "text/plain": [
              "<Figure size 432x288 with 1 Axes>"
            ],
            "image/png": "[encoded data removed]"
          },
          "metadata": {
            "needs_background": "light"
          }
        }
      ]
    },
    {
      "cell_type": "code",
      "source": [
        "plt.plot(v)\n",
        "plt.title('velocity-time graph')\n",
        "plt.show()"
      ],
      "metadata": {
        "colab": {
          "base_uri": "https://localhost:8080/",
          "height": 281
        },
        "id": "K3jw9cTurW80",
        "outputId": "aa8af8c9-7cf6-455a-85d5-3419232d1671"
      },
      "execution_count": 11,
      "outputs": [
        {
          "output_type": "display_data",
          "data": {
            "text/plain": [
              "<Figure size 432x288 with 1 Axes>"
            ],
            "image/png": "[encoded data removed]"
          },
          "metadata": {
            "needs_background": "light"
          }
        }
      ]
    }
  ]
}