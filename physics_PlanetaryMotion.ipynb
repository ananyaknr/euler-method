{
  "cells": [
    {
      "cell_type": "markdown",
      "metadata": {
        "id": "RzpECzWGlfc8"
      },
      "source": [
        "# Planetary motion"
      ]
    },
    {
      "cell_type": "markdown",
      "metadata": {
        "id": "rtPqIE58npE_"
      },
      "source": [
        "simulating planetary motion (earth-sun) using euler method"
      ]
    },
    {
      "cell_type": "code",
      "execution_count": 1,
      "metadata": {
        "id": "fe2JhEkYldB4"
      },
      "outputs": [],
      "source": [
        "import matplotlib.pyplot as plt\n",
        "import numpy as np\n",
        "# coor1 = earth\n",
        "# coor2 = sun\n",
        "\n",
        "G = 6.67e-11     \n",
        "AU = 1.5e11\n",
        "m1 = 5.972e24 # earth\n",
        "m2 = 2.0e30 # sun\n",
        "gravconst_e = G*m2*m1\n",
        "\n",
        "# earth\n",
        "init_x1 = 1.0167*AU\n",
        "init_y1 = 0\n",
        "x1 = [init_x1]\n",
        "y1 = [init_y1]\n",
        "vx1 = [0]\n",
        "vy1 = [29290]\n",
        "\n",
        "# sun\n",
        "init_x2 = 0\n",
        "init_y2 = 0\n",
        "vx2 = [0]\n",
        "vy2 = [0]\n",
        "x2 = [init_x2]\n",
        "y2 = [init_y2]\n",
        "\n",
        "h = 24*60*60 # 1 day in second\n",
        "t = 0\n",
        "\n",
        "while t<365*h:\n",
        "    rx,ry = x1[-1] - x2[-1], y1[-1] - y2[-1]\n",
        "    r = (rx**2+ry**2)**1.5\n",
        "    fx_e = -gravconst_e*rx/r\n",
        "    fy_e = -gravconst_e*ry/r\n",
        "    \n",
        "    # earth\n",
        "    new_vx1 = vx1[-1] + fx_e*h/m1\n",
        "    vx1.append(new_vx1)\n",
        "    new_vy1 = vy1[-1] + fy_e*h/m1\n",
        "    vy1.append(new_vy1)\n",
        "  \n",
        "    new_x1 = x1[-1] + new_vx1*h\n",
        "    x1.append(new_x1)\n",
        "    new_y1 = y1[-1] + new_vy1*h\n",
        "    y1.append(new_y1)\n",
        "    \n",
        "    # sun\n",
        "    new_vx2 = vx2[-1] + (-fx_e)*h/m2\n",
        "    vx2.append(new_vx2)\n",
        "    new_vy2 = vy2[-1] + (-fy_e)*h/m2\n",
        "    vy2.append(new_vy2)\n",
        "    \n",
        "    new_x2 = x2[-1] + new_vx2*h \n",
        "    x2.append(new_x2)\n",
        "    new_y2 = y2[-1] + new_vy2*h\n",
        "    y2.append(new_y2)\n",
        "    \n",
        "    # time \n",
        "    t +=h"
      ]
    },
    {
      "cell_type": "code",
      "execution_count": 2,
      "metadata": {
        "id": "19BtFnainoG_"
      },
      "outputs": [
        {
          "data": {
            "image/png": "[encoded data removed]",
            "text/plain": [
              "<Figure size 432x288 with 1 Axes>"
            ]
          },
          "metadata": {
            "needs_background": "light"
          },
          "output_type": "display_data"
        }
      ],
      "source": [
        "import matplotlib.pyplot as plt\n",
        "plt.scatter(0,0,color='r',label='sun')\n",
        "plt.plot(x1,y1,'g',label='earth')\n",
        "plt.legend()\n",
        "plt.axis('equal')\n",
        "plt.title('planetory motion - rest frame')\n",
        "plt.show()"
      ]
    }
  ],
  "metadata": {
    "colab": {
      "name": "physics_PlanetaryMotion.ipynb",
      "provenance": []
    },
    "kernelspec": {
      "display_name": "Python 3.10.6 64-bit",
      "language": "python",
      "name": "python3"
    },
    "language_info": {
      "codemirror_mode": {
        "name": "ipython",
        "version": 3
      },
      "file_extension": ".py",
      "mimetype": "text/x-python",
      "name": "python",
      "nbconvert_exporter": "python",
      "pygments_lexer": "ipython3",
      "version": "3.10.6"
    },
    "vscode": {
      "interpreter": {
        "hash": "27132e5f594703dfd090aeb0f4a3c2ad0d737e0e1c0bffc97c11c6f69961dff2"
      }
    }
  },
  "nbformat": 4,
  "nbformat_minor": 0
}
