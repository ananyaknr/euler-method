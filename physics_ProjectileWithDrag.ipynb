{
  "nbformat": 4,
  "nbformat_minor": 0,
  "metadata": {
    "colab": {
      "name": "physics_ProjectileWithDrag.ipynb",
      "provenance": []
    },
    "kernelspec": {
      "name": "python3",
      "display_name": "Python 3"
    },
    "language_info": {
      "name": "python"
    }
  },
  "cells": [
    {
      "cell_type": "markdown",
      "source": [
        "# Projectile with drag force"
      ],
      "metadata": {
        "id": "RzpECzWGlfc8"
      }
    },
    {
      "cell_type": "markdown",
      "source": [
        "simulating projectile motion (with drag force) using euler method"
      ],
      "metadata": {
        "id": "rtPqIE58npE_"
      }
    },
    {
      "cell_type": "code",
      "source": [
        "import matplotlib.pyplot as plt\n",
        "import numpy as np\n",
        "\n",
        "# initial condition\n",
        "init_x=0\n",
        "init_y=0\n",
        "h=1e-4\n",
        "x = [init_x]\n",
        "y = [init_y]\n",
        "vx = [10]\n",
        "vy = [10]\n",
        "m = 5\n",
        "g = 9.8\n",
        "t = [0]\n",
        "\n",
        "Cd=0.5\n",
        "A=8\n",
        "dens=1.2\n",
        "\n",
        "while y[-1]>=0:\n",
        "  v = (pow(vx[-1],2)+pow(vy[-1],2))**0.5\n",
        "  Fd = 0.5*Cd*A*dens*(v**2)\n",
        "\n",
        "  cos = vx[-1]/v\n",
        "  sin = vy[-1]/v\n",
        "\n",
        "  Fx = -Fd*cos\n",
        "  Fy = -1*m*g - Fd*sin\n",
        "\n",
        "  new_x = x[-1] + vx[-1]*h + (Fx*h*h)/(m*2)\n",
        "  x.append(new_x)\n",
        "  \n",
        "  new_vx = vx[-1] + (Fx*h)/m\n",
        "  vx.append(new_vx)\n",
        "  \n",
        "  new_y = y[-1] + vy[-1]*h + (Fy*h*h)/(m*2)\n",
        "  new_vy = vy[-1] + (Fy*h)/m\n",
        "  y.append(new_y)\n",
        "  vy.append(new_vy)"
      ],
      "metadata": {
        "id": "fe2JhEkYldB4"
      },
      "execution_count": 1,
      "outputs": []
    },
    {
      "cell_type": "markdown",
      "source": [
        "plotting position-time graph as a scatter plot"
      ],
      "metadata": {
        "id": "QlLjJJfFoFzI"
      }
    },
    {
      "cell_type": "code",
      "source": [
        "plt.scatter(x[::300],y[::300],marker='o')\n",
        "# plt.plot(x,y)\n",
        "plt.legend()\n",
        "plt.title('position-time graph')\n",
        "plt.show()"
      ],
      "metadata": {
        "colab": {
          "base_uri": "https://localhost:8080/",
          "height": 298
        },
        "id": "EktiQWp-oEEY",
        "outputId": "9b79c9aa-dc32-460a-e8fd-ad603f12fe60"
      },
      "execution_count": 2,
      "outputs": [
        {
          "output_type": "stream",
          "name": "stderr",
          "text": [
            "WARNING:matplotlib.legend:No handles with labels found to put in legend.\n"
          ]
        },
        {
          "output_type": "display_data",
          "data": {
            "text/plain": [
              "<Figure size 432x288 with 1 Axes>"
            ],
            "image/png": "[encoded data removed]"
          },
          "metadata": {
            "needs_background": "light"
          }
        }
      ]
    },
    {
      "cell_type": "markdown",
      "source": [
        "plotting velocity-time graph of both x-axis and y-axis"
      ],
      "metadata": {
        "id": "jAy-uy58oLs8"
      }
    },
    {
      "cell_type": "code",
      "source": [
        "plt.plot(vx,label='x')\n",
        "plt.plot(vy,label='y')\n",
        "plt.legend()\n",
        "plt.title('velocity-time graph')\n",
        "plt.show()"
      ],
      "metadata": {
        "colab": {
          "base_uri": "https://localhost:8080/",
          "height": 281
        },
        "id": "sSzczmtRoFEu",
        "outputId": "5586da91-4f28-45d5-e064-82dfd1d72740"
      },
      "execution_count": 3,
      "outputs": [
        {
          "output_type": "display_data",
          "data": {
            "text/plain": [
              "<Figure size 432x288 with 1 Axes>"
            ],
            "image/png": "[encoded data removed]"
          },
          "metadata": {
            "needs_background": "light"
          }
        }
      ]
    }
  ]
}