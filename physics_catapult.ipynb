{
  "nbformat": 4,
  "nbformat_minor": 0,
  "metadata": {
    "colab": {
      "name": "colab_for_download.ipynb",
      "provenance": []
    },
    "kernelspec": {
      "name": "python3",
      "display_name": "Python 3"
    },
    "language_info": {
      "name": "python"
    }
  },
  "cells": [
    {
      "cell_type": "markdown",
      "source": [
        "# Simulating motion for designing catapult "
      ],
      "metadata": {
        "id": "RzpECzWGlfc8"
      }
    },
    {
      "cell_type": "markdown",
      "source": [
        "Calculating energy store in system using energy conservation law"
      ],
      "metadata": {
        "id": "-yDoortvleEt"
      }
    },
    {
      "cell_type": "code",
      "source": [
        "# 1/2(kx^2) = 1/2(mv^2)\n",
        "m = 0.35\n",
        "# rubber band k = 45\n",
        "k = 90\n",
        "x = 1.2\n",
        "init_v = ((k*x*x)/m)**0.5\n",
        "print(init_v)"
      ],
      "metadata": {
        "id": "fe2JhEkYldB4"
      },
      "execution_count": null,
      "outputs": []
    },
    {
      "cell_type": "markdown",
      "source": [
        "Simulating catapult projectile motion (also calculating drag force) using euler method"
      ],
      "metadata": {
        "id": "AXt7IVCUl0Lf"
      }
    },
    {
      "cell_type": "code",
      "execution_count": null,
      "metadata": {
        "id": "8Cd2cIfYlKIS"
      },
      "outputs": [],
      "source": [
        "import matplotlib.pyplot as plt\n",
        "import numpy as np\n",
        "import math\n",
        "\n",
        "# initial condition\n",
        "init_x=0\n",
        "init_y=1  \n",
        "h=1e-4\n",
        "x = [init_x]\n",
        "y = [init_y]\n",
        "\n",
        "angle_in_degrees = 30\n",
        "angle_in_radians = math.radians(angle_in_degrees)\n",
        "\n",
        "vx = [init_v*math.cos(angle_in_radians)]\n",
        "vy = [init_v*math.sin(angle_in_radians)]\n",
        "g = 9.8\n",
        "t = [0]\n",
        "\n",
        "Cd=0.00001\n",
        "A=0.006362\n",
        "dens=1.225\n",
        "\n",
        "while y[-1]>=0:\n",
        "  v = (pow(vx[-1],2)+pow(vy[-1],2))**0.5\n",
        "  Fd = 0.5*Cd*A*dens*(v**2)\n",
        "\n",
        "  cos = vx[-1]/v\n",
        "  sin = vy[-1]/v\n",
        "\n",
        "  Fx = -Fd*cos\n",
        "  Fy = -1*m*g - Fd*sin\n",
        "\n",
        "  new_x = x[-1] + vx[-1]*h + (Fx*h*h)/(m*2)\n",
        "  x.append(new_x)\n",
        "  \n",
        "  new_vx = vx[-1] + (Fx*h)/m\n",
        "  vx.append(new_vx)\n",
        "  \n",
        "  new_y = y[-1] + vy[-1]*h + (Fy*h*h)/(m*2)\n",
        "  new_vy = vy[-1] + (Fy*h)/m\n",
        "  y.append(new_y)\n",
        "  vy.append(new_vy)\n",
        "\n",
        "plt.scatter(x[::200],y[::200],marker='o')\n",
        "plt.legend()\n",
        "plt.title('position-time graph')\n",
        "plt.show()\n",
        "\n",
        "print('longest distance : ',max(x))\n",
        "print('highest height : ',max(y))"
      ]
    }
  ]
}