{
  "nbformat": 4,
  "nbformat_minor": 0,
  "metadata": {
    "colab": {
      "name": "physics_Projectile.ipynb",
      "provenance": []
    },
    "kernelspec": {
      "name": "python3",
      "display_name": "Python 3"
    },
    "language_info": {
      "name": "python"
    }
  },
  "cells": [
    {
      "cell_type": "markdown",
      "source": [
        "# Projectile motion"
      ],
      "metadata": {
        "id": "RzpECzWGlfc8"
      }
    },
    {
      "cell_type": "markdown",
      "source": [
        "Simulating projectile motion (without calcculating drag force) using euler method"
      ],
      "metadata": {
        "id": "rtPqIE58npE_"
      }
    },
    {
      "cell_type": "code",
      "source": [
        "import matplotlib.pyplot as plt\n",
        "\n",
        "init_x=0\n",
        "init_y=0\n",
        "h=1e-4\n",
        "x = [init_x]\n",
        "y = [init_y]\n",
        "vx = [10]\n",
        "vy = [10]\n",
        "m = 5\n",
        "g = 9.8\n",
        "t = [0]"
      ],
      "metadata": {
        "id": "fe2JhEkYldB4"
      },
      "execution_count": 12,
      "outputs": []
    },
    {
      "cell_type": "code",
      "source": [
        "while y[-1]>=0:\n",
        "  Fx = 0\n",
        "  Fy = -1*m*g\n",
        "  \n",
        "  new_x = x[-1] + vx[-1]*h + (Fx*h*h)/(m*2)\n",
        "  x.append(new_x)\n",
        "  \n",
        "  new_vx = vx[-1] + (Fx*h)/m\n",
        "  vx.append(new_vx)\n",
        "  \n",
        "  new_y = y[-1] + vy[-1]*h + (Fy*h*h)/(m*2)\n",
        "  new_vy = vy[-1] + (Fy*h)/m\n",
        "  y.append(new_y)\n",
        "  vy.append(new_vy)"
      ],
      "metadata": {
        "id": "9TcHWQFyrpFF"
      },
      "execution_count": 13,
      "outputs": []
    },
    {
      "cell_type": "code",
      "source": [
        "plt.scatter(x[::500],y[::500],marker='o')\n",
        "# plt.plot(x,y)\n",
        "plt.legend()\n",
        "plt.title('position-time graph')\n",
        "plt.show()"
      ],
      "metadata": {
        "colab": {
          "base_uri": "https://localhost:8080/",
          "height": 298
        },
        "id": "ED77DM9OrqAq",
        "outputId": "e96b4535-971c-4047-865e-5d6fa6c77e3b"
      },
      "execution_count": 14,
      "outputs": [
        {
          "output_type": "stream",
          "name": "stderr",
          "text": [
            "WARNING:matplotlib.legend:No handles with labels found to put in legend.\n"
          ]
        },
        {
          "output_type": "display_data",
          "data": {
            "text/plain": [
              "<Figure size 432x288 with 1 Axes>"
            ],
            "image/png": "[encoded data removed]"
          },
          "metadata": {
            "needs_background": "light"
          }
        }
      ]
    },
    {
      "cell_type": "code",
      "source": [
        "plt.plot(vx,label='x')\n",
        "plt.plot(vy,label='y')\n",
        "plt.legend()\n",
        "plt.title('velocity-time graph')\n",
        "plt.show()"
      ],
      "metadata": {
        "colab": {
          "base_uri": "https://localhost:8080/",
          "height": 281
        },
        "id": "oameihSlrrn3",
        "outputId": "b7722051-9bf2-4f8a-decf-e4cb5e4fc56b"
      },
      "execution_count": 15,
      "outputs": [
        {
          "output_type": "display_data",
          "data": {
            "text/plain": [
              "<Figure size 432x288 with 1 Axes>"
            ],
            "image/png": "[encoded data removed]"
          },
          "metadata": {
            "needs_background": "light"
          }
        }
      ]
    }
  ]
}